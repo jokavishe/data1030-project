{
 "cells": [
  {
   "cell_type": "code",
   "execution_count": 1,
   "metadata": {},
   "outputs": [],
   "source": [
    "import pandas as pd"
   ]
  },
  {
   "cell_type": "code",
   "execution_count": 2,
   "metadata": {},
   "outputs": [],
   "source": [
    "df = pd.read_csv(\"/Users/jordankavishe/Desktop/data1030/midterm/support2.csv\")"
   ]
  },
  {
   "cell_type": "code",
   "execution_count": 5,
   "metadata": {},
   "outputs": [
    {
     "data": {
      "text/plain": [
       "age         float64\n",
       "death         int64\n",
       "sex          object\n",
       "hospdead      int64\n",
       "slos          int64\n",
       "d.time        int64\n",
       "dzgroup      object\n",
       "dzclass      object\n",
       "num.co        int64\n",
       "edu         float64\n",
       "income       object\n",
       "scoma       float64\n",
       "charges     float64\n",
       "totcst      float64\n",
       "totmcst     float64\n",
       "avtisst     float64\n",
       "race         object\n",
       "sps         float64\n",
       "aps         float64\n",
       "surv2m      float64\n",
       "surv6m      float64\n",
       "hday          int64\n",
       "diabetes      int64\n",
       "dementia      int64\n",
       "ca           object\n",
       "prg2m       float64\n",
       "prg6m       float64\n",
       "dnr          object\n",
       "dnrday      float64\n",
       "meanbp      float64\n",
       "wblc        float64\n",
       "hrt         float64\n",
       "resp        float64\n",
       "temp        float64\n",
       "pafi        float64\n",
       "alb         float64\n",
       "bili        float64\n",
       "crea        float64\n",
       "sod         float64\n",
       "ph          float64\n",
       "glucose     float64\n",
       "bun         float64\n",
       "urine       float64\n",
       "adlp        float64\n",
       "adls        float64\n",
       "sfdm2        object\n",
       "adlsc       float64\n",
       "dtype: object"
      ]
     },
     "execution_count": 5,
     "metadata": {},
     "output_type": "execute_result"
    }
   ],
   "source": [
    "df.dtypes"
   ]
  },
  {
   "cell_type": "code",
   "execution_count": 7,
   "metadata": {},
   "outputs": [
    {
     "data": {
      "text/plain": [
       "array([0, 1])"
      ]
     },
     "execution_count": 7,
     "metadata": {},
     "output_type": "execute_result"
    }
   ],
   "source": [
    "df[\"death\"].unique()"
   ]
  },
  {
   "cell_type": "code",
   "execution_count": null,
   "metadata": {},
   "outputs": [],
   "source": []
  }
 ],
 "metadata": {
  "kernelspec": {
   "display_name": "data1030",
   "language": "python",
   "name": "python3"
  },
  "language_info": {
   "codemirror_mode": {
    "name": "ipython",
    "version": 3
   },
   "file_extension": ".py",
   "mimetype": "text/x-python",
   "name": "python",
   "nbconvert_exporter": "python",
   "pygments_lexer": "ipython3",
   "version": "3.11.4"
  },
  "orig_nbformat": 4
 },
 "nbformat": 4,
 "nbformat_minor": 2
}
